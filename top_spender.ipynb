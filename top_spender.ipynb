{
 "cells": [
  {
   "cell_type": "code",
   "execution_count": null,
   "id": "7e6b6126-42ea-49b7-9412-6d098fbdd7b5",
   "metadata": {
    "tags": []
   },
   "outputs": [],
   "source": [
    "import pandas as pd\n",
    "import matplotlib.pyplot as plt\n",
    "import seaborn as sns\n",
    "from matplotlib.ticker import ScalarFormatter"
   ]
  },
  {
   "cell_type": "code",
   "execution_count": null,
   "id": "d0f62dc9-fd86-4d4e-961a-c2466f0c7bd6",
   "metadata": {
    "tags": []
   },
   "outputs": [],
   "source": [
    "bigger_spender = pd.read_csv(\"biggest_spender.csv\")\n",
    "bigger_spender[\"fechahoraevento\"] = pd.to_datetime(bigger_spender[\"fechahoraevento\"])"
   ]
  },
  {
   "cell_type": "code",
   "execution_count": null,
   "id": "0376796f-0c6a-403f-89ac-2377ab6fc654",
   "metadata": {
    "tags": []
   },
   "outputs": [],
   "source": [
    "min_lat, max_lat, min_lon, max_lon = -25.4244, -25.3412, -57.4664, -57.2714"
   ]
  },
  {
   "cell_type": "code",
   "execution_count": null,
   "id": "ae514f47-d130-4f96-9507-7f771739cd1f",
   "metadata": {
    "tags": []
   },
   "outputs": [],
   "source": [
    "map_img = plt.imread(\"map.png\")"
   ]
  },
  {
   "cell_type": "code",
   "execution_count": null,
   "id": "524306b9-5479-4c62-8084-df4c1ab49484",
   "metadata": {
    "tags": []
   },
   "outputs": [],
   "source": [
    "bigger_spender.columns"
   ]
  },
  {
   "cell_type": "code",
   "execution_count": null,
   "id": "29a9efe8-7597-437b-9fc5-01abcfc75051",
   "metadata": {
    "tags": []
   },
   "outputs": [],
   "source": [
    "bigger_spender.groupby(\"ymd\")[\"consecutivoevento\"].count().sort_values()"
   ]
  },
  {
   "cell_type": "code",
   "execution_count": null,
   "id": "7ce54bcc-5e85-48fe-b3ce-63dacc9fffd8",
   "metadata": {
    "tags": []
   },
   "outputs": [],
   "source": [
    "fig, ax = plt.subplots(figsize = (8,7))\n",
    "ax.scatter(bigger_spender.longitude, bigger_spender.latitude, zorder=1, alpha= 0.2, c=bigger_spender.fechahoraevento, s=10)\n",
    "ax.set_title('Mapa de la tarjeta que más pagó')\n",
    "ax.set_ylim(min_lat, max_lat)\n",
    "ax.set_xlim(min_lon, max_lon)\n",
    "BBox = (min_lon, max_lon, min_lat, max_lat)\n",
    "ax.imshow(map_img, zorder=0, extent = BBox)"
   ]
  },
  {
   "cell_type": "code",
   "execution_count": null,
   "id": "88e47814-5f5a-414e-8189-3cf998d227b1",
   "metadata": {
    "tags": []
   },
   "outputs": [],
   "source": [
    "fig, axs = plt.subplots(figsize = (8,8.2), nrows=2)\n",
    "fecha = \"2022-11-02 (Ma)\"\n",
    "cond = bigger_spender[\"ymd\"] == fecha\n",
    "ax = axs[0]\n",
    "im = ax.scatter(bigger_spender[cond].longitude, bigger_spender[cond].latitude, zorder=1, \n",
    "                alpha= 0.5, c=bigger_spender[cond].hour, s=10, label=\"viaje\")\n",
    "ax.set_title(f'Mapa de la tarjeta que más pagó en {fecha}\\nTotal de eventos:{bigger_spender[cond].shape[0]}\\nTotal monto: {bigger_spender[cond][\"montoevento\"].sum()}')\n",
    "ax.set_ylim(min_lat, max_lat)\n",
    "ax.set_xlim(min_lon, max_lon)\n",
    "BBox = (min_lon, max_lon, min_lat, max_lat)\n",
    "ax.imshow(map_img, zorder=0, extent = BBox)\n",
    "#fig.colorbar(im, ax=ax)\n",
    "\n",
    "ax = axs[1]\n",
    "sns.histplot(bigger_spender[cond][\"hour\"], ax=ax, bins=range(24))\n",
    "ax.set_title(f'Histograma de eventos/hora en {fecha}')\n",
    "ax.set_xlabel(\"Hora\")\n",
    "ax.set_ylabel(\"Cantidad de Eventos (tipo de evento = 4)\")\n",
    "\n",
    "plt.show()\n",
    "plt.close(\"all\")"
   ]
  },
  {
   "cell_type": "code",
   "execution_count": null,
   "id": "fdb92340-f320-44b5-b361-5f9fbe5f48fc",
   "metadata": {
    "tags": []
   },
   "outputs": [],
   "source": [
    "bigger_spender.hour.unique()"
   ]
  },
  {
   "cell_type": "code",
   "execution_count": null,
   "id": "c433e25d-abef-47c1-a971-3eedf8b034d0",
   "metadata": {
    "tags": []
   },
   "outputs": [],
   "source": [
    "fig, ax = plt.subplots(figsize = (10,4.2))\n",
    "fecha = \"2022-11-02 (Ma)\"\n",
    "cond = (bigger_spender[\"ymd\"] == fecha) & (bigger_spender[\"tipoevento\"] == 4)\n",
    "sns.histplot(bigger_spender[cond][\"hour\"], ax=ax, bins=range(24))\n",
    "ax.set_title(f'Histograma de eventos/hora en {fecha}\\nTotal de eventos:{bigger_spender[cond].shape[0]}\\nTotal monto: {bigger_spender[cond][\"montoevento\"].sum()}')\n",
    "ax.set_xlabel(\"Hora\")\n",
    "ax.set_ylabel(\"Cantidad de Eventos (tipo de evento = 4)\")\n",
    "plt.show()\n",
    "plt.close(\"all\")"
   ]
  },
  {
   "cell_type": "code",
   "execution_count": null,
   "id": "b400e476-944f-45fa-84e1-772ce664fa27",
   "metadata": {
    "tags": []
   },
   "outputs": [],
   "source": [
    "fig, ax = plt.subplots(figsize = (20,5))\n",
    "cond = bigger_spender[\"tipoevento\"] == 4\n",
    "sns.histplot(bigger_spender[cond][\"fechahoraevento\"], \n",
    "             ax=ax, \n",
    "             bins=400)\n",
    "ax.set_title(\"Histograma de eventos de la tarjeta con más gastos\")\n",
    "ax.set_xlabel(\"Fecha\")\n",
    "ax.set_ylabel(\"Cantidad de Eventos (tipo de evento = 4)\")\n",
    "plt.show()\n",
    "plt.close(\"all\")"
   ]
  },
  {
   "cell_type": "code",
   "execution_count": null,
   "id": "8afc59f6-23a0-4386-ae34-e2081a509d54",
   "metadata": {
    "tags": []
   },
   "outputs": [],
   "source": [
    "bigger_spender[\"fechahoraevento\"].max() - bigger_spender[\"fechahoraevento\"].min()"
   ]
  },
  {
   "cell_type": "code",
   "execution_count": null,
   "id": "401233c5-c7b6-4da8-809d-0ec738abc97b",
   "metadata": {
    "tags": []
   },
   "outputs": [],
   "source": [
    "cond = bigger_spender[\"tipoevento\"] == 4\n",
    "by_month = bigger_spender[cond].groupby([\"year\", \"month\"]).agg({\"montoevento\":\"sum\"}).reset_index()"
   ]
  },
  {
   "cell_type": "code",
   "execution_count": null,
   "id": "b73b479a-99ea-4d1f-8f6a-aab621874e06",
   "metadata": {
    "tags": []
   },
   "outputs": [],
   "source": [
    "by_month[\"ym\"] = by_month[\"year\"].astype(\"str\") + \" \" + by_month[\"month\"].astype(\"str\")"
   ]
  },
  {
   "cell_type": "code",
   "execution_count": null,
   "id": "61047b5b-472e-4367-bcad-7a197349b9ec",
   "metadata": {
    "tags": []
   },
   "outputs": [],
   "source": [
    "fig, ax = plt.subplots(figsize = (5,10))\n",
    "g = sns.barplot(y=by_month[\"ym\"], x=by_month[\"montoevento\"], ax=ax, color=\"steelblue\")\n",
    "for p in g.patches:\n",
    "    #ax.annotate(\"%.3f\" % p.get_height(), (p.get_x() + p.get_width() / 2., p.get_height()),\n",
    "    #            ha='center', va='center', fontsize=9, xytext=(1, configs[metric]['offset']), rotation=90,\n",
    "    #            textcoords='offset points', color=configs[metric]['color'], weight='black')\n",
    "\n",
    "    ax.annotate(f\"{int(p.get_width()):,}\", (p.get_width(), p.get_y() + p.get_height() / 2.),\n",
    "                ha='left', va='center', fontsize=9, xytext=(1, -1),\n",
    "                textcoords='offset points', color='k', weight='normal')\n",
    "ax.set_title(f'Gastos por mes\\nTotal monto: {by_month[\"montoevento\"].sum()}')\n",
    "formatter = ScalarFormatter()\n",
    "formatter.set_scientific(False)\n",
    "ax.xaxis.set_major_formatter(formatter)\n",
    "ax.spines['top'].set_visible(False)\n",
    "ax.spines['right'].set_visible(False)\n",
    "ax.set_xlabel(\"Guaraníes\")\n",
    "ax.set_ylabel(\"Año Mes\")\n",
    "plt.show()\n",
    "plt.close(\"all\")"
   ]
  },
  {
   "cell_type": "code",
   "execution_count": null,
   "id": "e18a0ce0-f066-4a4a-a7fa-6fd7d506df83",
   "metadata": {
    "tags": []
   },
   "outputs": [],
   "source": [
    "bigger_spender"
   ]
  },
  {
   "cell_type": "code",
   "execution_count": null,
   "id": "68588051-8f0f-41fe-99ec-ba529f231efd",
   "metadata": {
    "tags": []
   },
   "outputs": [],
   "source": [
    "cond = bigger_spender[\"tipoevento\"] == 4\n",
    "bigger_spender[cond].groupby([\"idrutaestacion\", \"idsam\"]).agg(\n",
    "    monto_total=pd.NamedAgg(column=\"montoevento\", aggfunc=\"sum\"),\n",
    "    cantidad_eventos=pd.NamedAgg(column=\"serialtarjeta\", aggfunc=\"count\"),\n",
    "    fecha_min=pd.NamedAgg(column=\"fechahoraevento\", aggfunc=\"min\"),\n",
    "    fecha_max=pd.NamedAgg(column=\"fechahoraevento\", aggfunc=\"max\")\n",
    ")"
   ]
  },
  {
   "cell_type": "code",
   "execution_count": null,
   "id": "84addde8-4cc9-47ab-b9f8-bb67caf2e517",
   "metadata": {
    "tags": []
   },
   "outputs": [],
   "source": [
    "cond = bigger_spender[\"tipoevento\"] == 4\n",
    "by_month = bigger_spender[cond].groupby([\"year\", \"month\", \"idrutaestacion\", \"idsam\"]).agg({\"montoevento\":\"sum\"}).reset_index()"
   ]
  },
  {
   "cell_type": "code",
   "execution_count": null,
   "id": "28bcc31a-f74a-45cc-974d-34b4848598f7",
   "metadata": {
    "tags": []
   },
   "outputs": [],
   "source": [
    "by_month[\"ym\"] = by_month[\"year\"].astype(\"str\") + \" \" + by_month[\"month\"].astype(\"str\")"
   ]
  },
  {
   "cell_type": "code",
   "execution_count": null,
   "id": "02495251-8ae1-4824-acd3-74271cfd2482",
   "metadata": {
    "tags": []
   },
   "outputs": [],
   "source": [
    "dd = by_month.groupby([\"idrutaestacion\", \"idsam\"])[\"montoevento\"].sum().reset_index()"
   ]
  },
  {
   "cell_type": "code",
   "execution_count": null,
   "id": "d5787c6b-4e4c-4fd1-b191-c017806686b8",
   "metadata": {
    "tags": []
   },
   "outputs": [],
   "source": [
    "dd"
   ]
  },
  {
   "cell_type": "code",
   "execution_count": null,
   "id": "d09c0a87-8c5a-4d36-b1bd-4b40fccf8604",
   "metadata": {
    "tags": []
   },
   "outputs": [],
   "source": [
    "g = sns.catplot(data=dd, \n",
    "                x=\"montoevento\",\n",
    "                y=\"idrutaestacion\",\n",
    "                hue=\"idsam\",\n",
    "                kind=\"bar\")"
   ]
  },
  {
   "cell_type": "code",
   "execution_count": null,
   "id": "c9953c59-45fa-43a0-a414-d022b30b323f",
   "metadata": {},
   "outputs": [],
   "source": []
  }
 ],
 "metadata": {
  "kernelspec": {
   "display_name": "Python 3 (ipykernel)",
   "language": "python",
   "name": "python3"
  },
  "language_info": {
   "codemirror_mode": {
    "name": "ipython",
    "version": 3
   },
   "file_extension": ".py",
   "mimetype": "text/x-python",
   "name": "python",
   "nbconvert_exporter": "python",
   "pygments_lexer": "ipython3",
   "version": "3.11.2"
  }
 },
 "nbformat": 4,
 "nbformat_minor": 5
}
