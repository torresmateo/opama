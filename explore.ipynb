{
 "cells": [
  {
   "cell_type": "code",
   "execution_count": null,
   "id": "f16e6102-0ea9-4227-b08c-658f8b93d86e",
   "metadata": {
    "tags": []
   },
   "outputs": [],
   "source": [
    "import pandas as pd\n",
    "import matplotlib.pyplot as plt\n",
    "import seaborn as sns\n",
    "from pathlib import Path\n",
    "from datetime import datetime\n",
    "import numpy as np"
   ]
  },
  {
   "cell_type": "code",
   "execution_count": null,
   "id": "3cad7c83-c234-4e00-a45c-c5611dccf95c",
   "metadata": {
    "tags": []
   },
   "outputs": [],
   "source": [
    "# usar aca el path a la carpeta con datos descomprimidos\n",
    "data_dir = Path(\"D:/transit-data/data-SNBE\")"
   ]
  },
  {
   "cell_type": "code",
   "execution_count": null,
   "id": "dbaf7fce-606b-4b1f-807a-5e4d19f0440d",
   "metadata": {
    "tags": []
   },
   "outputs": [],
   "source": [
    "# esta celda tarda MUCHO TIEMPO, una mejor opción es usar la instancia de BigQuery \n",
    "combined_dataset = data_dir / \"combined.pkl\"\n",
    "if not combined_dataset.exists():\n",
    "    weekdays = [\"Do\",\"Lu\", \"Ma\", \"Mi\", \"Ju\", \"Vi\", \"Sa\"]\n",
    "    D = pd.concat([pd.read_csv(i, sep=\";\") for i in data_dir.glob(\"*.csv\")])\n",
    "    D[\"fechahoraevento\"] = pd.to_datetime(D[\"fechahoraevento\"])\n",
    "    D[\"ymd\"] = D[\"fechahoraevento\"].apply(lambda x: f\"{x.date()} ({weekdays[x.weekday()]})\")\n",
    "    D[\"year\"] = D[\"fechahoraevento\"].apply(lambda x: x.year)\n",
    "    D[\"month\"] = D[\"fechahoraevento\"].apply(lambda x: x.month)\n",
    "    D[\"day\"] = D[\"fechahoraevento\"].apply(lambda x: x.day)\n",
    "    D[\"hour\"] = D[\"fechahoraevento\"].apply(lambda x: x.hour)\n",
    "    D.to_pickle(combined_dataset)\n",
    "else:\n",
    "    D = pd.read_pickle(combined_dataset)"
   ]
  },
  {
   "cell_type": "code",
   "execution_count": null,
   "id": "10368686-4b2c-4a14-886e-1b83e74f8997",
   "metadata": {
    "tags": []
   },
   "outputs": [],
   "source": [
    "# usuarios por día\n",
    "usuario_por_dia = D[[\"ymd\", \"serialtarjeta\", \"idrutaestacion\"]].groupby([\"ymd\", \"idrutaestacion\"])[\"serialtarjeta\"].nunique().reset_index()\n",
    "usuario_por_dia\n"
   ]
  },
  {
   "cell_type": "code",
   "execution_count": null,
   "id": "b5bdb163-8243-4f50-acc9-4bf0d59f23b0",
   "metadata": {
    "tags": []
   },
   "outputs": [],
   "source": [
    "idsam_idrutaestacion = D[[\"idsam\", \"idrutaestacion\"]].drop_duplicates()"
   ]
  },
  {
   "cell_type": "code",
   "execution_count": null,
   "id": "34e66ea1-89fc-4834-850e-ff87c44607ec",
   "metadata": {
    "tags": []
   },
   "outputs": [],
   "source": [
    "tarj_dia = D[[\"serialtarjeta\", \"ymd\"]].copy()"
   ]
  },
  {
   "cell_type": "code",
   "execution_count": null,
   "id": "07a567e5-b767-43b0-8c5b-339c62b6481a",
   "metadata": {
    "tags": []
   },
   "outputs": [],
   "source": [
    "tarj_dia[\"val\"] = 1\n",
    "usos_tarj_dia = tarj_dia.groupby([\"serialtarjeta\", \"ymd\"]).count()"
   ]
  },
  {
   "cell_type": "code",
   "execution_count": null,
   "id": "e3b892db-25af-4e9d-85a0-692c38036c33",
   "metadata": {
    "tags": []
   },
   "outputs": [],
   "source": [
    "count_usos_tarj_dia = usos_tarj_dia.reset_index().sort_values(\"val\", ascending=False)"
   ]
  },
  {
   "cell_type": "code",
   "execution_count": null,
   "id": "d2a109e5-1c1b-4c23-a664-f48a0d161228",
   "metadata": {
    "tags": []
   },
   "outputs": [],
   "source": [
    "count_usos_tarj_dia_top50 = count_usos_tarj_dia[:50]"
   ]
  },
  {
   "cell_type": "code",
   "execution_count": null,
   "id": "a9c012b7-d9fc-44d0-bcc5-3a6004e30900",
   "metadata": {
    "tags": []
   },
   "outputs": [],
   "source": [
    "data = {k:[] for k in [\"serialtarjeta\", \"ymd\", \"montoevento\", \"tipoevento\", \"idrutaestacion\"]}\n",
    "for i, r in count_usos_tarj_dia_top50.iterrows():\n",
    "    cond = (D[\"serialtarjeta\"] == r[\"serialtarjeta\"]) & (D[\"ymd\"] == r[\"ymd\"])\n",
    "    d = D[cond]\n",
    "    for _, rr in d.iterrows():\n",
    "        data[\"serialtarjeta\"].append(rr[\"serialtarjeta\"])\n",
    "        data[\"ymd\"].append(rr[\"ymd\"])\n",
    "        data[\"montoevento\"].append(rr[\"montoevento\"])\n",
    "        data[\"tipoevento\"].append(rr[\"tipoevento\"])\n",
    "        data[\"idrutaestacion\"].append(rr[\"idrutaestacion\"])\n",
    "top_spenders = pd.DataFrame(data)"
   ]
  },
  {
   "cell_type": "code",
   "execution_count": null,
   "id": "7994168c-5041-43ce-aceb-3a51a7c8e361",
   "metadata": {
    "tags": []
   },
   "outputs": [],
   "source": [
    "tarjeta = \"\" #rellenar con la tarjeta a analizar\n",
    "dia = \"2022-04-25 (Do)\"\n",
    "cond = (D[\"serialtarjeta\"] == tarjeta) & (D[\"ymd\"] == dia)\n"
   ]
  },
  {
   "cell_type": "code",
   "execution_count": null,
   "id": "3c2545eb-980c-4b1c-a738-817764e8d75f",
   "metadata": {
    "tags": []
   },
   "outputs": [],
   "source": [
    "f, ax = plt.subplots(figsize=(10, 5))\n",
    "sns.histplot(D[cond], x=\"hour\", bins=range(24))\n",
    "ax.set_ylabel(\"cantidad de eventos\")\n",
    "ax.set_xlabel(\"hora\")\n",
    "ax.set_title(f\"Cantidad de eventos para tarjeta <ANONIMIZADO> el {dia}\\n# de eventos: {D[cond].shape[0]} monto: {D[cond]['montoevento'].sum()}\")\n",
    "plt.show()\n",
    "plt.close(\"all\")\n"
   ]
  },
  {
   "cell_type": "code",
   "execution_count": null,
   "id": "831791ee-a022-4d90-8a4a-1446a6addc72",
   "metadata": {
    "tags": []
   },
   "outputs": [],
   "source": [
    "top_spenders.groupby([\"serialtarjeta\", \"ymd\"]).agg({\"montoevento\":\"sum\", \"tipoevento\":\"count\", \"idrutaestacion\":\"nunique\"})"
   ]
  },
  {
   "cell_type": "code",
   "execution_count": null,
   "id": "67d7d573-8cc4-480e-9d1b-801070d57521",
   "metadata": {
    "tags": []
   },
   "outputs": [],
   "source": [
    "D[D[\"serialtarjeta\"] == \"18f6e00ec04d8e05438254c3b1e8502b\"].to_csv(\"biggest_spender.csv\")"
   ]
  },
  {
   "cell_type": "code",
   "execution_count": null,
   "id": "c6c6be51-46d5-4af1-84ae-be503a0becd3",
   "metadata": {
    "tags": []
   },
   "outputs": [],
   "source": [
    "users_by_month.reset_index().to_csv(\"tarjeta_dia_mes.csv\")"
   ]
  },
  {
   "cell_type": "code",
   "execution_count": null,
   "id": "c8de2459-9187-4364-9cd4-5000564c770b",
   "metadata": {
    "tags": []
   },
   "outputs": [],
   "source": [
    "cond = usuario_por_dia[\"idrutaestacion\"].isin(['0091', '0016', '0155', '0090', '005b', '0143', '005c', '0145'])\n",
    "d = usuario_por_dia[cond].pivot(index=\"ymd\", columns=\"idrutaestacion\", values=\"serialtarjeta\").fillna(0)\n",
    "\n",
    "cond = ~usuario_por_dia[\"idrutaestacion\"].isin(['0000'])\n",
    "d = usuario_por_dia[cond].pivot(index=\"ymd\", columns=\"idrutaestacion\", values=\"serialtarjeta\").fillna(0)\n",
    "\n",
    "cmap=plt.get_cmap(\"crest_r\")\n",
    "cmap.set_under(\"lightsalmon\")\n",
    "f, ax = plt.subplots(figsize=(30, 70))\n",
    "sns.heatmap(d.astype(int).T, \n",
    "            annot=True,\n",
    "            cmap=cmap,\n",
    "            vmin=1,\n",
    "            fmt=\",\",\n",
    "            ax=ax)\n",
    "ax.set_ylabel(\"día\")\n",
    "ax.set_xlabel(\"ID Ruta/Estación\")\n",
    "ax.set_title(f\"Cantidad tarjetas activas por día e ID Ruta/Estación\")\n",
    "plt.savefig(f'usuarios-por-dia.pdf', bbox_inches='tight')\n",
    "plt.show()\n",
    "plt.close(\"all\")"
   ]
  },
  {
   "cell_type": "code",
   "execution_count": null,
   "id": "bcb70b85-cdde-4897-b01d-b592d2f4316a",
   "metadata": {
    "tags": []
   },
   "outputs": [],
   "source": [
    "dd = D[cond][[\"ymd\", \"hour\", \"idrutaestacion\", \"idsam\"]].copy()\n",
    "d = dd.groupby([\"ymd\", \"hour\", \"idrutaestacion\"])[\"idsam\"].nunique().reset_index()"
   ]
  },
  {
   "cell_type": "code",
   "execution_count": null,
   "id": "b85e4e35-63d3-40f8-af4c-7bb4b9d2f5e7",
   "metadata": {
    "tags": []
   },
   "outputs": [],
   "source": [
    "rutaestacion = \"005a\"\n",
    "cond = d[\"idrutaestacion\"] == rutaestacion\n",
    "d = d[cond].pivot(index=\"ymd\", columns=\"hour\", values=\"idsam\").fillna(0)"
   ]
  },
  {
   "cell_type": "code",
   "execution_count": null,
   "id": "617a6613-863d-422b-abc3-c8f528886095",
   "metadata": {
    "tags": []
   },
   "outputs": [],
   "source": [
    "cmap=plt.get_cmap(\"crest_r\")\n",
    "cmap.set_under(\"lightsalmon\")\n",
    "f, ax = plt.subplots(figsize=(15, 10))\n",
    "sns.heatmap(d.astype(int), \n",
    "            annot=True,\n",
    "            cmap=cmap,\n",
    "            vmin=1,\n",
    "            fmt=\",\",\n",
    "            ax=ax)\n",
    "ax.set_ylabel(\"día\")\n",
    "ax.set_xlabel(\"hora\")\n",
    "ax.set_title(f\"Cantidad de SAMs activos por día/hora para ID Ruta/Estación = {rutaestacion}\")\n",
    "plt.show()\n",
    "plt.close(\"all\")"
   ]
  },
  {
   "cell_type": "code",
   "execution_count": null,
   "id": "4f3c3351-0a91-4142-9960-c5cc488a41f7",
   "metadata": {},
   "outputs": [],
   "source": [
    "monto_by_x = D.groupby([\"tipoevento\", \"tipotransporte\", \"producto\", \"year\", \"month\"])[\"montoevento\"].sum().reset_index()"
   ]
  },
  {
   "cell_type": "code",
   "execution_count": null,
   "id": "2c5c7129-cfb7-4b20-bdb3-dfc21255bee8",
   "metadata": {
    "tags": []
   },
   "outputs": [],
   "source": [
    "monto_by_x[\"ym\"] = monto_by_x[\"year\"].astype(\"str\") + \"/\" + monto_by_x[\"month\"].astype(\"str\")"
   ]
  },
  {
   "cell_type": "code",
   "execution_count": null,
   "id": "8837b24b-54d9-4307-81a7-21b1ccee49b2",
   "metadata": {
    "tags": []
   },
   "outputs": [],
   "source": [
    "g = sns.catplot(data=monto_by_x.sort_values([\"year\", \"month\"]),\n",
    "                x=\"montoevento\",\n",
    "                y=\"ym\",\n",
    "                col=\"tipoevento\",\n",
    "                hue=\"tipotransporte\",\n",
    "                row=\"producto\",\n",
    "                kind=\"bar\")\n",
    "# iterate through axes\n",
    "def to_int(x):\n",
    "    if np.isnan(x):\n",
    "        return 0\n",
    "    return int(x)\n",
    "\n",
    "for ax in g.axes.ravel():\n",
    "    \n",
    "    # add annotations\n",
    "    for c in ax.containers:\n",
    "        labels = [f' {to_int(v.get_width())/1000000:.1f}M' for v in c]\n",
    "        ax.bar_label(c, labels=labels, label_type='edge', fontsize=6)\n",
    "    #ax.margins(y=0.2)\n",
    "    #ax.set_xscale(\"log\")\n",
    "#g.set_xticklabels(rotation=30)\n",
    "plt.show()"
   ]
  },
  {
   "cell_type": "code",
   "execution_count": null,
   "id": "092c7a13-fb78-42c4-91fd-ee688e34d375",
   "metadata": {
    "tags": []
   },
   "outputs": [],
   "source": [
    "cond = (D[\"producto\"] == \"MO\") & (D[\"tipoevento\"] == 4)\n",
    "tarj_counts = D[cond][\"serialtarjeta\"].value_counts()"
   ]
  },
  {
   "cell_type": "code",
   "execution_count": null,
   "id": "87e8ed0f-9d5b-4ebd-bc52-9dfad8a20e50",
   "metadata": {
    "tags": []
   },
   "outputs": [],
   "source": [
    "sns.kdeplot(tarj_counts)"
   ]
  },
  {
   "cell_type": "code",
   "execution_count": null,
   "id": "fe66418e-80e9-425c-9b7a-f98589137323",
   "metadata": {
    "tags": []
   },
   "outputs": [],
   "source": [
    "sns.kdeplot(tarj_counts[tarj_counts < 1000])"
   ]
  },
  {
   "cell_type": "code",
   "execution_count": null,
   "id": "6c379c92-a40f-429e-a995-03a22284aeef",
   "metadata": {},
   "outputs": [],
   "source": []
  }
 ],
 "metadata": {
  "kernelspec": {
   "display_name": "Python 3 (ipykernel)",
   "language": "python",
   "name": "python3"
  },
  "language_info": {
   "codemirror_mode": {
    "name": "ipython",
    "version": 3
   },
   "file_extension": ".py",
   "mimetype": "text/x-python",
   "name": "python",
   "nbconvert_exporter": "python",
   "pygments_lexer": "ipython3",
   "version": "3.11.2"
  }
 },
 "nbformat": 4,
 "nbformat_minor": 5
}
